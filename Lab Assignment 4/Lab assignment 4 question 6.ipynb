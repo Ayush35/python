{
 "cells": [
  {
   "cell_type": "code",
   "execution_count": 41,
   "metadata": {},
   "outputs": [
    {
     "name": "stdin",
     "output_type": "stream",
     "text": [
      "enter any string:   THIS IS A SAMPLE STRING\n"
     ]
    },
    {
     "name": "stdout",
     "output_type": "stream",
     "text": [
      "HAMPLESTRING\n"
     ]
    }
   ],
   "source": [
    "string= input(\"enter any string:  \")\n",
    "string = string.replace(' ','')\n",
    "string1=string\n",
    "list=[]\n",
    "# string to list conversion\n",
    "for i in string:\n",
    "    list.append(i)\n",
    "\n",
    "# removal of repetive Character\n",
    "list1= list.copy()\n",
    "if not list:\n",
    "    print(-1)\n",
    "else:\n",
    "    for i in list:\n",
    "        list1.remove(i)\n",
    "        if i in list1:\n",
    "            while(list1.count(i)):\n",
    "                list1.remove(i)    \n",
    "        list1.append(i)T\n",
    "    string1=''\n",
    "    str2=string1.join(list1) \n",
    "    print(str2)"
   ]
  },
  {
   "cell_type": "code",
   "execution_count": null,
   "metadata": {},
   "outputs": [],
   "source": []
  }
 ],
 "metadata": {
  "kernelspec": {
   "display_name": "Python 3",
   "language": "python",
   "name": "python3"
  },
  "language_info": {
   "codemirror_mode": {
    "name": "ipython",
    "version": 3
   },
   "file_extension": ".py",
   "mimetype": "text/x-python",
   "name": "python",
   "nbconvert_exporter": "python",
   "pygments_lexer": "ipython3",
   "version": "3.8.3"
  }
 },
 "nbformat": 4,
 "nbformat_minor": 4
}
